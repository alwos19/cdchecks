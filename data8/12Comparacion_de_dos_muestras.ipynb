{
 "cells": [
  {
   "cell_type": "markdown",
   "id": "d37a907e-8573-4baa-9787-0d275cb71e53",
   "metadata": {},
   "source": [
    "## 12.1. Pruebas A/B\n",
    "distribución subyacente: "
   ]
  },
  {
   "cell_type": "code",
   "execution_count": null,
   "id": "764d6865-3ab3-47a4-9eb1-9a4264df3ddd",
   "metadata": {},
   "outputs": [],
   "source": []
  }
 ],
 "metadata": {
  "kernelspec": {
   "display_name": "Python 3 (ipykernel)",
   "language": "python",
   "name": "python3"
  },
  "language_info": {
   "codemirror_mode": {
    "name": "ipython",
    "version": 3
   },
   "file_extension": ".py",
   "mimetype": "text/x-python",
   "name": "python",
   "nbconvert_exporter": "python",
   "pygments_lexer": "ipython3",
   "version": "3.10.12"
  }
 },
 "nbformat": 4,
 "nbformat_minor": 5
}
