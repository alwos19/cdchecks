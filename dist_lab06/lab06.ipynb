{
 "cells": [
  {
   "cell_type": "markdown",
   "id": "81aaefee",
   "metadata": {
    "colab_type": "text",
    "deletable": true,
    "editable": true,
    "id": "view-in-github"
   },
   "source": [
    "<a href=\"https://colab.research.google.com/github/darioblandon/materials-fa23/blob/main/lab/lab06/lab06.ipynb\" target=\"_parent\"><img src=\"https://colab.research.google.com/assets/colab-badge.svg\" alt=\"Open In Colab\"/></a>"
   ]
  },
  {
   "cell_type": "markdown",
   "id": "7xKtAk_zAS4-",
   "metadata": {
    "deletable": true,
    "editable": true,
    "id": "7xKtAk_zAS4-"
   },
   "source": [
    "<p><img alt=\"Colaboratory logo\" height=\"140px\" src=\"https://upload.wikimedia.org/wikipedia/commons/archive/f/fb/20161010213812%21Escudo-UdeA.svg\" align=\"left\" hspace=\"10px\" vspace=\"0px\"></p>\n",
    "\n",
    "<h1> Fundamentos en ciencias de datos</h1>\n",
    "\n",
    "\n",
    "\n",
    "# Laboratorio 6: Examinando el toque terapéutico\n",
    "\n",
    "¡Bienvenidos al Laboratorio 6!\n"
   ]
  },
  {
   "cell_type": "markdown",
   "id": "clmFdVZbAS4_",
   "metadata": {
    "deletable": true,
    "editable": true,
    "id": "clmFdVZbAS4_"
   },
   "source": [
    "**Obtener ayuda en el laboratorio**: Siempre que te sientas estancado o necesites más aclaraciones, busca un GSI o un tutor, ¡y estarán encantados de ayudarte!\n",
    "\n",
    "Estas son las políticas para obtener crédito completo:\n",
    "\n",
    "1. Para los estudiantes inscritos en <span style=\"color: #BC412B\">**Regular Labs**</span> en persona, recibirán crédito de laboratorio al **asistir** a la sección de laboratorio y lograr un progreso significativo en el cuaderno de laboratorio. **<span style=\"text-decoration: underline\">debes</span>** enviar esta tarea a Gradescope.\n",
    "\n",
    "2. Los estudiantes inscritos en <span style=\"color: #04888B\">**Laboratorio de autoservicio**</span> recibirán crédito de laboratorio al **completar** el cuaderno, aprobar los casos de prueba y **enviándolo** a Gradescope antes de las **11:59 p. m. de la fecha de entrega**.\n",
    "\n",
    "**Envío**: una vez que haya terminado, ejecute todas las celdas además de la última, seleccione Archivo > Guardar cuaderno y luego ejecute la celda final. El resultado contendrá un archivo zip que podrá utilizar para enviarlo en Gradescope.\n",
    "\n",
    "Comencemos configurando las pruebas y las importaciones ejecutando la siguiente celda."
   ]
  },
  {
   "cell_type": "markdown",
   "id": "drngtG1RAS5A",
   "metadata": {
    "deletable": true,
    "editable": true,
    "id": "drngtG1RAS5A"
   },
   "source": [
    "Después de una introducción tan extensa a la programación para la ciencia de datos, finalmente pasamos a la sección del curso donde podemos aplicar nuestras nuevas habilidades para responder preguntas reales.\n",
    "\n",
    "En este laboratorio, usaremos técnicas de prueba que se introdujeron en la conferencia para probar la idea del toque terapéutico, la idea de que algún practicante puede sentir y masajear su campo de energía humano.\n"
   ]
  },
  {
   "cell_type": "code",
   "execution_count": 1,
   "id": "NJzLONYNAS5A",
   "metadata": {
    "deletable": true,
    "editable": true,
    "id": "NJzLONYNAS5A"
   },
   "outputs": [],
   "source": [
    "# Ejecute esta celda, pero no la cambie.\n",
    "\n",
    "# Estas líneas importan los módulos Numpy y Datascience.\n",
    "import numpy as np\n",
    "from datascience import *\n",
    "\n",
    "# Estas líneas hacen algo de magia en la trama\n",
    "import matplotlib\n",
    "%matplotlib inline\n",
    "import matplotlib.pyplot as plt\n",
    "plt.style.use('fivethirtyeight')\n",
    "import warnings\n",
    "warnings.simplefilter('ignore', FutureWarning)\n",
    "from matplotlib import patches\n",
    "from ipywidgets import interact, interactive, fixed\n",
    "import ipywidgets as widgets\n"
   ]
  },
  {
   "cell_type": "raw",
   "id": "2ac098c3-cc62-4935-aa95-419dbbe3dce4",
   "metadata": {},
   "source": [
    "# BEGIN QUESTION\n",
    "name: qt\n",
    "manual: true\n",
    "points: 0"
   ]
  },
  {
   "cell_type": "markdown",
   "id": "58586d0e-4e5c-4874-a973-88f1634ed68e",
   "metadata": {},
   "source": [
    "Ingresa tu nombre  con apellido y número de carnet en las variables dadas en la celda siguiente:\n",
    "Ejemplo:\n",
    "```python\n",
    "NombreApellidos=\"Lisa Simpson\"\n",
    "NumeroCarnet=\"27182818\"\n",
    "Email=\"lisa.simpson@udea.edu.co\"\n",
    "```"
   ]
  },
  {
   "cell_type": "raw",
   "id": "bdf4c1a0-ebc8-4978-80c1-921d0e28c59d",
   "metadata": {},
   "source": [
    "# BEGIN SOLUTION"
   ]
  },
  {
   "cell_type": "code",
   "execution_count": 2,
   "id": "a5dc112c-7461-4053-8200-19940d2026d4",
   "metadata": {},
   "outputs": [
    {
     "data": {
      "text/plain": [
       "' # BEGIN PROMPT\\nNombreApellidos=\"...\"\\nNumeroCarnet=\"..\"\\nEmail=\"...\"\\n'"
      ]
     },
     "execution_count": 2,
     "metadata": {},
     "output_type": "execute_result"
    }
   ],
   "source": [
    "# BEGIN SOLUTION NO PROMPT\n",
    "NombreApellidos=\"Lisa Simpson\"\n",
    "NumeroCarnet=\"27182818\"\n",
    "Email=\"homero.simpson@udea.edu.co\"\n",
    "# END SOLUTION\n",
    "\"\"\" # BEGIN PROMPT\n",
    "NombreApellidos=\"...\"\n",
    "NumeroCarnet=\"..\"\n",
    "Email=\"...\"\n",
    "\"\"\" # END PROMPT"
   ]
  },
  {
   "cell_type": "raw",
   "id": "8a250b2e-928b-4142-af47-73f0aa62df1f",
   "metadata": {},
   "source": [
    "# END SOLUTION"
   ]
  },
  {
   "cell_type": "raw",
   "id": "a6c8e865-a7ab-43fa-9bf1-78cd523ff419",
   "metadata": {},
   "source": [
    "# BEGIN TESTS"
   ]
  },
  {
   "cell_type": "code",
   "execution_count": 3,
   "id": "78b93576-ae9e-4ea3-ab1b-eafff549c061",
   "metadata": {},
   "outputs": [],
   "source": [
    "assert isinstance(NombreApellidos, str)\n",
    "assert isinstance(NumeroCarnet, str)\n",
    "assert isinstance(Email, str)\n",
    "assert len(NombreApellidos)>3\n",
    "assert len(NumeroCarnet)>3\n",
    "assert len(Email)>3"
   ]
  },
  {
   "cell_type": "raw",
   "id": "eb11010e-3317-4bd3-b9ec-18c44e9c883d",
   "metadata": {},
   "source": [
    "# END TESTS"
   ]
  },
  {
   "cell_type": "raw",
   "id": "b893f4ff-9500-4dab-99db-e103b43494a6",
   "metadata": {},
   "source": [
    "# END QUESTION"
   ]
  },
  {
   "cell_type": "markdown",
   "id": "iXn3iW3AAS5B",
   "metadata": {
    "deletable": true,
    "editable": true,
    "id": "iXn3iW3AAS5B"
   },
   "source": [
    "## 1. ¿Qué es el Toque Terapéutico?\n",
    "\n",
    "El Toque Terapéutico (TT) es la idea de que todos pueden sentir el Campo de Energía Humana (HEF) alrededor de los individuos. Quienes practican TT han descrito los HEF de diferentes personas como \"cálidos como gelatina\" y \"táctiles como caramelo\".\n",
    "\n",
    "La TT fue una técnica popular utilizada a lo largo del siglo XX que se promocionó como una excelente manera de equilibrar la salud de una persona. Ciertos profesionales afirman que tienen la capacidad de sentir el HEF y masajearlo para promover la salud y la relajación de las personas.\n",
    "\n",
    "### Emily Rosa\n",
    "\n",
    "[Emily Rosa](https://en.wikipedia.org/wiki/Emily_Rosa) era una estudiante de 4º de primaria que estaba muy familiarizada con el mundo de la TT, gracias a sus padres, que eran a la vez médicos y escépticos de la TT.\n",
    "\n",
    "Para su proyecto de feria de ciencias de cuarto grado, Emily decidió probar si los practicantes de TT realmente podían interactuar con el HEF de una persona. Más tarde publicó su trabajo en TT, convirtiéndose en la persona más joven en publicar un artículo de investigación en una revista médica revisada por pares."
   ]
  },
  {
   "cell_type": "markdown",
   "id": "oIZH_xWPAS5B",
   "metadata": {
    "deletable": true,
    "editable": true,
    "id": "oIZH_xWPAS5B"
   },
   "source": [
    "### El experimento de Emily\n",
    "\n",
    "El experimento de Emily fue limpio, simple y efectivo. Debido a las ocupaciones de sus padres en el campo médico, tenía amplio acceso a personas que afirmaban ser practicantes de TT.\n",
    "\n",
    "Emily tomó 21 practicantes de TT y los usó para su experimento científico. Tomaría a un practicante de TT y le pediría que extendiera sus manos a través de una pantalla (a través de la cual no puede ver). Emily estaría del otro lado y lanzaría una moneda justa. Dependiendo de cómo cayera la moneda, extendía su mano izquierda o su mano derecha. El practicante de TT tendría entonces que responder qué mano extendió Emily. Si un practicante realmente pudiera interactuar con el HEF de una persona, se esperaría que respondiera correctamente.\n",
    "\n",
    "En total, a través de 210 muestras, el practicante eligió la mano correcta el 44% de las veces.\n",
    "\n",
    "El objetivo principal de Emily aquí era probar si las conjeturas de los practicantes de TT eran aleatorias, como el lanzamiento de una moneda. En la mayoría de los experimentos médicos, esta es la norma. **Queremos probar si el tratamiento tiene un efecto o no, *no* si el tratamiento realmente funciona o no.**\n",
    "\n",
    "Ahora comenzaremos a formular este experimento en términos de la terminología que aprendimos en este curso."
   ]
  },
  {
   "cell_type": "raw",
   "id": "e5f7c529-08e9-43fd-a940-f4aca8bcc310",
   "metadata": {},
   "source": [
    "# BEGIN QUESTION\n",
    "name: q1\n",
    "points : 1"
   ]
  },
  {
   "cell_type": "markdown",
   "id": "EVOhlG_6AS5C",
   "metadata": {
    "deletable": true,
    "editable": true,
    "id": "EVOhlG_6AS5C"
   },
   "source": [
    "**Pregunta 1.1**: Describa el [modelo] de Emily (https://inferentialthinking.com/chapters/11/1/Assessing_a_Model.html) sobre la probabilidad de que los practicantes de TT elijan la mano correcta. ¿Qué modelo alternativo pretende desacreditar su modelo?\n",
    "\n",
    "Si puede, consulte con sus compañeros, en el foro de discusión o con los asistentes técnicos/inteligentes de su laboratorio para llegar a una conclusión."
   ]
  },
  {
   "cell_type": "markdown",
   "id": "3Zu3Y7ECAS5C",
   "metadata": {
    "deletable": true,
    "editable": true,
    "id": "3Zu3Y7ECAS5C"
   },
   "source": [
    "_Escriba su respuesta aquí, reemplazando este texto._"
   ]
  },
  {
   "cell_type": "raw",
   "id": "cc82b897-cbad-4a28-b140-bfe2eb00ae20",
   "metadata": {},
   "source": [
    "# END QUESTION"
   ]
  },
  {
   "cell_type": "raw",
   "id": "3b2397ce",
   "metadata": {},
   "source": [
    "# BEGIN QUESTION\n",
    "name: q2\n",
    "points : 1"
   ]
  },
  {
   "cell_type": "markdown",
   "id": "g4s5Wc9dAS5D",
   "metadata": {
    "deletable": true,
    "editable": true,
    "id": "g4s5Wc9dAS5D"
   },
   "source": [
    "**Pregunta 1.2:** Recuerde que el practicante obtuvo la respuesta correcta el 44% (0,44) de las veces. Según el modelo de Emily, en promedio, ¿qué proporción de veces esperamos que el practicante adivine la mano correcta? Asegúrate de que tu respuesta sea un número entre 0 y 1."
   ]
  },
  {
   "cell_type": "raw",
   "id": "122793c5",
   "metadata": {},
   "source": [
    "# BEGIN SOLUTION"
   ]
  },
  {
   "cell_type": "code",
   "execution_count": 4,
   "id": "34089387",
   "metadata": {},
   "outputs": [
    {
     "data": {
      "text/plain": [
       "' # BEGIN PROMPT\\nproporcion_correcta = ...\\nproporcion_correcta\\n'"
      ]
     },
     "execution_count": 4,
     "metadata": {},
     "output_type": "execute_result"
    }
   ],
   "source": [
    "# BEGIN SOLUTION NO PROMPT\n",
    "# Calculando la proporción esperada de veces que el practicante adivina correctamente\n",
    "proporcion_correcta = 0.50\n",
    "\n",
    "# END SOLUTION\n",
    "\"\"\" # BEGIN PROMPT\n",
    "proporcion_correcta = ...\n",
    "proporcion_correcta\n",
    "\"\"\" # END PROMPT"
   ]
  },
  {
   "cell_type": "raw",
   "id": "7c85aed9",
   "metadata": {},
   "source": [
    "# END SOLUTION"
   ]
  },
  {
   "cell_type": "raw",
   "id": "ca3329e1",
   "metadata": {},
   "source": [
    "# BEGIN TESTS"
   ]
  },
  {
   "cell_type": "code",
   "execution_count": 5,
   "id": "52744222",
   "metadata": {},
   "outputs": [],
   "source": [
    "# Posibles assert para verificar que la solución sea correcta\n",
    "sol_q2 = 0.50\n",
    "def test_q2():\n",
    "    assert isinstance(proporcion_correcta, float), \"El valor no es un entero\" # Verificar que es un número decimal\n",
    "    assert 0 <= proporcion_correcta <= 1,  \"El valor no esta entre 0 y 1\" # Verificar que está en el rango correcto\n",
    "    assert proporcion_correcta == sol_q2, \"El valor no es el adecuado\"\n",
    "test_q2()"
   ]
  },
  {
   "cell_type": "raw",
   "id": "dffe15df",
   "metadata": {},
   "source": [
    "# END TESTS"
   ]
  },
  {
   "cell_type": "raw",
   "id": "307486ab",
   "metadata": {},
   "source": [
    "# END QUESTION"
   ]
  },
  {
   "cell_type": "raw",
   "id": "a35af69f",
   "metadata": {},
   "source": [
    "# BEGIN QUESTION\n",
    "name: q3\n",
    "points : 1"
   ]
  },
  {
   "cell_type": "markdown",
   "id": "p9WLkwIZAS5D",
   "metadata": {
    "deletable": true,
    "editable": true,
    "id": "p9WLkwIZAS5D"
   },
   "source": [
    "El objetivo ahora es ver si nuestra desviación de esta proporción esperada de respuestas correctas se debe a algo más que al azar.\n",
    "\n",
    "**Pregunta 1.3:** Generalmente utilizamos una estadística para ayudar a determinar hacia qué modelo apunta la evidencia. ¿Qué estadística podemos usar para comparar los resultados del modelo de Emily con lo observado? Asigne `valid_stat` a una matriz de números enteros que representan estadísticas de prueba que Emily puede usar:\n",
    "\n",
    "1. La diferencia entre el porcentaje correcto esperado y el porcentaje correcto real\n",
    "2. La diferencia absoluta entre el porcentaje correcto esperado y el porcentaje correcto real\n",
    "3. La suma del porcentaje correcto esperado y el porcentaje correcto real\n",
    "\n",
    "**NOTA:** ¡Asegúrese de usar `make_array` para crear su matriz de números enteros!.\n",
    "\n",
    "La idea, es que el estudiante cree un arreglo, usando 'make_array' seleccionando 1 o varias de las opciones, por ejemplo make_array(3) si considera que solamente es la tercer opción o make_array(1,3) si considera que son las opciones 1 y 3. \n",
    "\n",
    "> *Sugerencia*: ¿Cuál debería ser el dominio (posibles valores de x) para la distribución de nuestras estadísticas de prueba?"
   ]
  },
  {
   "cell_type": "raw",
   "id": "059be688",
   "metadata": {},
   "source": [
    "# BEGIN SOLUTION"
   ]
  },
  {
   "cell_type": "code",
   "execution_count": 6,
   "id": "c4508e8f",
   "metadata": {},
   "outputs": [
    {
     "data": {
      "text/plain": [
       "' # BEGIN PROMPT\\nvalid_stat = ...\\nvalid_stat\\n'"
      ]
     },
     "execution_count": 6,
     "metadata": {},
     "output_type": "execute_result"
    }
   ],
   "source": [
    "# BEGIN SOLUTION NO PROMPT\n",
    "\n",
    "# Asignamos `valid_stat` a una matriz de números enteros representando las estadísticas de prueba\n",
    "valid_stat = make_array(1, 2)\n",
    "\n",
    "# END SOLUTION\n",
    "\"\"\" # BEGIN PROMPT\n",
    "valid_stat = ...\n",
    "valid_stat\n",
    "\"\"\" # END PROMPT"
   ]
  },
  {
   "cell_type": "raw",
   "id": "6bce1576",
   "metadata": {},
   "source": [
    "# END SOLUTION"
   ]
  },
  {
   "cell_type": "raw",
   "id": "0449b6c9",
   "metadata": {},
   "source": [
    "# BEGIN TESTS"
   ]
  },
  {
   "cell_type": "code",
   "execution_count": 7,
   "id": "e145b947",
   "metadata": {},
   "outputs": [],
   "source": [
    "# Posibles asserts para verificar la solución\n",
    "def test_q3():\n",
    "    assert len(valid_stat) == 2, \"El tamaño del array no es el correcto\"\n",
    "    assert 1 in valid_stat, \"La primer respuesta no es valida\"\n",
    "    assert 2 in valid_stat, \"La segunda respuesta no es valida\"\n",
    "\n",
    "test_q3()"
   ]
  },
  {
   "cell_type": "raw",
   "id": "91fd7d1e",
   "metadata": {},
   "source": [
    "# END TESTS"
   ]
  },
  {
   "cell_type": "raw",
   "id": "9ebce70c",
   "metadata": {},
   "source": [
    "# END QUESTION"
   ]
  },
  {
   "cell_type": "raw",
   "id": "e3da54a4",
   "metadata": {},
   "source": [
    "# BEGIN QUESTION\n",
    "name: q4\n",
    "points : 1"
   ]
  },
  {
   "cell_type": "markdown",
   "id": "j5l87GCJAS5E",
   "metadata": {
    "deletable": true,
    "editable": true,
    "id": "j5l87GCJAS5E"
   },
   "source": [
    "**Pregunta 1.4:** ¿Por qué la estadística de la Pregunta 1.3 es la opción adecuada para comparar resultados en el experimento de Emily? ¿Cómo se relaciona con los modelos que definió en la Pregunta 1.1?"
   ]
  },
  {
   "cell_type": "markdown",
   "id": "12e9d48b-253a-4413-a210-50fe863d84c3",
   "metadata": {
    "editable": true,
    "id": "3Zu3Y7ECAS5C"
   },
   "source": [
    "_Escriba su respuesta aquí, reemplazando este texto._"
   ]
  },
  {
   "cell_type": "raw",
   "id": "cc637155-896e-43ab-94dd-a51a40668c0d",
   "metadata": {},
   "source": [
    "# END QUESTION"
   ]
  },
  {
   "cell_type": "raw",
   "id": "f4ba8258",
   "metadata": {},
   "source": [
    "# BEGIN QUESTION\n",
    "name: q5\n",
    "points : 1"
   ]
  },
  {
   "cell_type": "markdown",
   "id": "in4o_c-3AS5F",
   "metadata": {
    "deletable": true,
    "editable": true,
    "id": "in4o_c-3AS5F"
   },
   "source": [
    "**Pregunta 1.5:** Defina la función \"estadística\" que toma una **proporción esperada** y una **proporción real**, y devuelve el valor de la estadística elegida en la Pregunta 1.3. Suponga que el argumento toma proporciones, pero devuelva su respuesta como un porcentaje.\n",
    "\n",
    "*Pista:* Recuerde que estamos pidiendo un **porcentaje**, no una proporción."
   ]
  },
  {
   "cell_type": "raw",
   "id": "6049801a",
   "metadata": {},
   "source": [
    "# BEGIN SOLUTION"
   ]
  },
  {
   "cell_type": "code",
   "execution_count": 8,
   "id": "7934b211",
   "metadata": {},
   "outputs": [
    {
     "data": {
      "text/plain": [
       "' # BEGIN PROMPT\\ndef estadist(proporcion_esperada, proporcion_real):\\n    ...\\n'"
      ]
     },
     "execution_count": 8,
     "metadata": {},
     "output_type": "execute_result"
    }
   ],
   "source": [
    "# BEGIN SOLUTION NO PROMPT\n",
    "def estadist(proporcion_esperada, proporcion_real):\n",
    "    estadistica_valor = (proporcion_real - proporcion_esperada) / proporcion_esperada * 100\n",
    "    return estadistica_valor\n",
    "\n",
    "# END SOLUTION\n",
    "\"\"\" # BEGIN PROMPT\n",
    "def estadist(proporcion_esperada, proporcion_real):\n",
    "    ...\n",
    "\"\"\" # END PROMPT\n"
   ]
  },
  {
   "cell_type": "raw",
   "id": "c569499d",
   "metadata": {},
   "source": [
    "# END SOLUTION"
   ]
  },
  {
   "cell_type": "raw",
   "id": "993fb850",
   "metadata": {},
   "source": [
    "# BEGIN TESTS"
   ]
  },
  {
   "cell_type": "code",
   "execution_count": 9,
   "id": "91bb63c6",
   "metadata": {},
   "outputs": [],
   "source": [
    "# Posibles asserts para verificar la solución\n",
    "def test_q5():\n",
    "    assert np.round(estadist(0.2, 0.25),2) == 25.0, \"Test 1 no superado\"# Ejemplo: Aumento del 25% de lo esperado\n",
    "    assert np.round(estadist(0.5, 0.45),2) == -10.0, \"Test 2 no superado\"  # Ejemplo: Reducción del 10% de lo esperado\n",
    "    assert estadist(0.3, 0.3) == 0.0, \"Test 3 no superado\"    # Ejemplo: Ningún cambio\n",
    "    \n",
    "test_q5()"
   ]
  },
  {
   "cell_type": "raw",
   "id": "1ee014e4",
   "metadata": {},
   "source": [
    "# END TESTS"
   ]
  },
  {
   "cell_type": "raw",
   "id": "110ea347",
   "metadata": {},
   "source": [
    "# END QUESTION"
   ]
  },
  {
   "cell_type": "raw",
   "id": "ef85c809",
   "metadata": {},
   "source": [
    "# BEGIN QUESTION\n",
    "name: q6\n",
    "points : 1"
   ]
  },
  {
   "cell_type": "markdown",
   "id": "QAjgHf1qAS5F",
   "metadata": {
    "deletable": true,
    "editable": true,
    "id": "QAjgHf1qAS5F"
   },
   "source": [
    "**Pregunta 1.6:** Utilice la función recién definida para calcular la estadística observada en el experimento de Emily."
   ]
  },
  {
   "cell_type": "raw",
   "id": "1ebd58f5",
   "metadata": {},
   "source": [
    "# BEGIN SOLUTION"
   ]
  },
  {
   "cell_type": "code",
   "execution_count": 10,
   "id": "8ac77f06",
   "metadata": {},
   "outputs": [
    {
     "data": {
      "text/plain": [
       "' # BEGIN PROMPT\\nestadistica_observada = ...\\nestadistica_observada\\n'"
      ]
     },
     "execution_count": 10,
     "metadata": {},
     "output_type": "execute_result"
    }
   ],
   "source": [
    "# BEGIN SOLUTION NO PROMPT\n",
    "\n",
    "# Calcular la estadística observada para el experimento de Emily\n",
    "observaciones_emily = 0.44\n",
    "estadistica_observada = estadist(observaciones_emily,0.5)\n",
    "\n",
    "\n",
    "# END SOLUTION\n",
    "\"\"\" # BEGIN PROMPT\n",
    "estadistica_observada = ...\n",
    "estadistica_observada\n",
    "\"\"\" # END PROMPT\n"
   ]
  },
  {
   "cell_type": "raw",
   "id": "8ed59b8c",
   "metadata": {},
   "source": [
    "# END SOLUTION"
   ]
  },
  {
   "cell_type": "raw",
   "id": "47e016ab",
   "metadata": {},
   "source": [
    "# BEGIN TESTS"
   ]
  },
  {
   "cell_type": "code",
   "execution_count": 11,
   "id": "4d3c24ed",
   "metadata": {},
   "outputs": [],
   "source": [
    "sol = 13.640000000000001\n",
    "def test_q6():\n",
    "    assert isinstance(estadistica_observada, float), \"El valor no es del tipo float\"\n",
    "    assert np.round(estadistica_observada,2) == sol, \"El resultado no es el correcto\"\n",
    "\n",
    "test_q6()"
   ]
  },
  {
   "cell_type": "raw",
   "id": "00f52e96",
   "metadata": {},
   "source": [
    "# END TESTS"
   ]
  },
  {
   "cell_type": "raw",
   "id": "e14da385",
   "metadata": {},
   "source": [
    "# END QUESTION"
   ]
  },
  {
   "cell_type": "markdown",
   "id": "WiDuESRuAS5J",
   "metadata": {
    "deletable": true,
    "editable": true,
    "id": "WiDuESRuAS5J"
   },
   "source": [
    "**¿Esta estadística observada es consistente con lo que esperamos ver bajo el modelo de Emily?**\n",
    "\n",
    "Para responder a esta pregunta, debemos simular el experimento como si el modelo de Emily fuera correcto y calcular nuestra estadística para cada simulación.\n",
    "\n",
    "### `proporciones_de_muestra`\n",
    "\n",
    "`sample_proportions` se puede utilizar para realizar muestras aleatorias de varias categorías cuando se conoce la proporción de puntos de datos que se espera que caigan en cada categoría. `sample_proportions` toma dos argumentos: el tamaño de la muestra y una serie de proporciones correspondientes a cada categoría de la población (debe sumar 1).\n",
    "\n",
    "Considere lanzar una moneda justa, donde los dos resultados (la moneda sale cara y la moneda sale cruz) ocurren con la misma probabilidad. Esperamos que la mitad de todos los lanzamientos de monedas arrojen cara y la otra mitad de todos los lanzamientos de monedas arrojen cruz.\n",
    "\n",
    "Ejecute la siguiente celda para ver la simulación de 10 lanzamientos de una moneda justa. Sea el primer elemento de \"coin_proportions\" la proporción de caras y el segundo elemento de \"coin_proportions\" la proporción de cruces.\n",
    "\n",
    "*Observa lo que sucede cuando ejecutas esta celda varias veces: la proporción de lanzamientos de monedas que salen cara y cruz parece cambiar, ya que estás simulando lanzar 10 monedas cada vez.*"
   ]
  },
  {
   "cell_type": "code",
   "execution_count": 12,
   "id": "ZGUBS4GiAS5J",
   "metadata": {
    "deletable": true,
    "editable": true,
    "id": "ZGUBS4GiAS5J"
   },
   "outputs": [
    {
     "data": {
      "text/plain": [
       "array([ 0.5,  0.5])"
      ]
     },
     "execution_count": 12,
     "metadata": {},
     "output_type": "execute_result"
    }
   ],
   "source": [
    "coin_proportions = make_array(0.5, 0.5)\n",
    "ten_flips = sample_proportions(10, coin_proportions)\n",
    "ten_flips"
   ]
  },
  {
   "cell_type": "markdown",
   "id": "EI2X8wwiAS5J",
   "metadata": {
    "deletable": true,
    "editable": true,
    "id": "EI2X8wwiAS5J"
   },
   "source": [
    "`sample_proportions` devuelve una matriz que tiene la misma longitud que la matriz de proporciones que se pasa. Contiene la proporción de cada categoría que aparece en la muestra.\n",
    "\n",
    "En nuestro ejemplo, el primer elemento de \"ten_flips\" es la proporción simulada de caras y el segundo elemento de \"ten_flips\" es la proporción simulada de cruces."
   ]
  },
  {
   "cell_type": "code",
   "execution_count": 13,
   "id": "jjHzpunxAS5J",
   "metadata": {
    "deletable": true,
    "editable": true,
    "id": "jjHzpunxAS5J"
   },
   "outputs": [
    {
     "name": "stdout",
     "output_type": "stream",
     "text": [
      "En nuestra simulación, 0.5 de lanzamientos que fueron caras y 0.5 de lanzamientos que fueron cruz.\n"
     ]
    }
   ],
   "source": [
    "simulated_proportion_heads = ten_flips.item(0)\n",
    "simulated_proportion_tails = ten_flips.item(1)\n",
    "\n",
    "print(\"En nuestra simulación, \" + str(simulated_proportion_heads) + \" de lanzamientos que fueron caras y \" \\\n",
    "      + str(simulated_proportion_tails) + \" de lanzamientos que fueron cruz.\")"
   ]
  },
  {
   "cell_type": "raw",
   "id": "15691c1d",
   "metadata": {},
   "source": [
    "# BEGIN QUESTION\n",
    "name: q7\n",
    "points : 1"
   ]
  },
  {
   "cell_type": "markdown",
   "id": "ZIa51Y64AS5J",
   "metadata": {
    "deletable": true,
    "editable": true,
    "id": "ZIa51Y64AS5J"
   },
   "source": [
    "**Pregunta 1.7:** Para comenzar a simular, debemos comenzar creando una representación del modelo de Emily para usarla en nuestra simulación. Esta será una matriz con dos elementos. El primer elemento debe ser la proporción de veces que un practicante de TT elige la mano correcta, asumiendo que el modelo de Emily era correcto. El segundo elemento debe ser la proporción de veces, bajo el mismo supuesto, que el practicante de TT elige la mano incorrecta. Asigne `model_proportions` a esta matriz.\n",
    "\n",
    "Después de esto, podemos simular 210 elecciones de manos, como Emily evaluó en la vida real, y encontrar una estadística única para resumir este ejemplo de la simulación. Utilice la función `sample_proportions` y asigne la **proporción de elecciones de manos correctas** (de 210) a `simulation_proportion_correct`. Por último, utilice su función \"estadística\" para asignar \"una_estadística\" al valor de la estadística para esta simulación.\n",
    "\n",
    "*Sugerencia:* El uso de `sample_proportions` se puede encontrar en la [Referencia de Python](https://www.data8.org/fa23/reference/).\n"
   ]
  },
  {
   "cell_type": "raw",
   "id": "bf8700d5",
   "metadata": {},
   "source": [
    "# BEGIN SOLUTION"
   ]
  },
  {
   "cell_type": "code",
   "execution_count": 28,
   "id": "6af9a193",
   "metadata": {},
   "outputs": [
    {
     "name": "stdout",
     "output_type": "stream",
     "text": [
      "0.428571428571\n"
     ]
    },
    {
     "data": {
      "text/plain": [
       "\" # BEGIN PROMPT\\n'''Esto guarda el estado aleatorio de nuestro código para que podamos\\ngeneramos los mismos números cada vez que ejecutamos el código.\\nPor favor no cambie esta línea.'''\\nnp.random.seed(16)\\nnum_events = ... \\nmodel_proportions = ...\\nsimulation_results = ...\\nsimulation_proportion = ...\\nsimulation_proportion\\n\""
      ]
     },
     "execution_count": 28,
     "metadata": {},
     "output_type": "execute_result"
    }
   ],
   "source": [
    "# BEGIN SOLUTION NO PROMPT\n",
    "\n",
    "# Esto guarda el estado aleatorio de nuestro código para que podamos\n",
    "# generamos los mismos números cada vez que ejecutamos el código.\n",
    "# Por favor no cambie esta línea.\n",
    "\n",
    "np.random.seed(16)\n",
    "\n",
    "# Representación del modelo de Emily\n",
    "model_proportions = make_array(0.44, 0.56)\n",
    "\n",
    "# Simulación de 210 elecciones de manos\n",
    "num_events = 210\n",
    "simulation_results = sample_proportions(num_events, model_proportions)\n",
    "\n",
    "# Asignar el valor de la estadística para esta simulación\n",
    "simulation_proportion = simulation_results[0]\n",
    "\n",
    "print(simulation_proportion)\n",
    "\n",
    "# END SOLUTION\n",
    "\"\"\" # BEGIN PROMPT\n",
    "'''Esto guarda el estado aleatorio de nuestro código para que podamos\n",
    "generamos los mismos números cada vez que ejecutamos el código.\n",
    "Por favor no cambie esta línea.'''\n",
    "np.random.seed(16)\n",
    "num_events = ... \n",
    "model_proportions = ...\n",
    "simulation_results = ...\n",
    "simulation_proportion = ...\n",
    "simulation_proportion\n",
    "\"\"\" # END PROMPT\n"
   ]
  },
  {
   "cell_type": "raw",
   "id": "962f5b02",
   "metadata": {},
   "source": [
    "# END SOLUTION"
   ]
  },
  {
   "cell_type": "raw",
   "id": "2dad9020",
   "metadata": {},
   "source": [
    "# BEGIN TESTS"
   ]
  },
  {
   "cell_type": "code",
   "execution_count": 31,
   "id": "955d3d83",
   "metadata": {},
   "outputs": [],
   "source": [
    "sol_q7 = np.round(0.428571428571,2)\n",
    "\n",
    "def test_q7():\n",
    "    assert (model_proportions[0] == 0.44) and( model_proportions[1] == 0.56), \"model_proportions no tiene los valores correctos\"\n",
    "    assert num_events == 210, \"El número de eventos no es el adecuado\"\n",
    "    assert len(simulation_results) == 2, \"El tamaño del arreglo no es el correcto\"\n",
    "    assert 0 <= simulation_proportion <= 1, \"La estadistica no está entre 0 y 1\"\n",
    "    assert np.round(simulation_proportion,2) == sol_q7, \"La solución no es la correcta\"\n",
    "\n",
    "test_q7()"
   ]
  },
  {
   "cell_type": "raw",
   "id": "369ce616",
   "metadata": {},
   "source": [
    "# END TESTS"
   ]
  },
  {
   "cell_type": "raw",
   "id": "aee06856",
   "metadata": {},
   "source": [
    "# END QUESTION"
   ]
  },
  {
   "cell_type": "raw",
   "id": "bc1cabf7",
   "metadata": {},
   "source": [
    "# BEGIN QUESTION\n",
    "name: q8\n",
    "points : 1"
   ]
  },
  {
   "cell_type": "markdown",
   "id": "yHDr2zh0AS5K",
   "metadata": {
    "deletable": true,
    "editable": true,
    "id": "yHDr2zh0AS5K"
   },
   "source": [
    "**Pregunta 1.8:** Veamos ahora cómo es realmente la distribución de las estadísticas según el modelo de Emily.\n",
    "\n",
    "Defina la función `simulación_y_estadística` para incluir la matriz `model_proportions` y la proporción esperada de veces que un practicante de TT adivinaría una mano correctamente según el modelo de Emily. La función debería simular que Emily realiza el experimento 210 veces y devolver la estadística de esta simulación.\n",
    "\n",
    "*Pista:* Esto debería seguir el mismo patrón que el código que hiciste en el problema anterior."
   ]
  },
  {
   "cell_type": "raw",
   "id": "bfc60f07",
   "metadata": {},
   "source": [
    "# BEGIN SOLUTION"
   ]
  },
  {
   "cell_type": "code",
   "execution_count": 38,
   "id": "d6fa57c7",
   "metadata": {},
   "outputs": [
    {
     "data": {
      "text/plain": [
       "\" # BEGIN PROMPT\\ndef simulation_and_statistic(model_proportions, expected_proportion_correct):\\n    '''Simulates 210 TT hand choices under Emily’s model.\\n    Returns one statistic from the simulation.'''\\n    ...\\n    \\n\""
      ]
     },
     "execution_count": 38,
     "metadata": {},
     "output_type": "execute_result"
    }
   ],
   "source": [
    "# BEGIN SOLUTION NO PROMPT\n",
    "\n",
    "def simulation_and_statistic(model_proportions_, experimentos=210):\n",
    "    # Generar 210 resultados aleatorios basados en las proporciones del modelo\n",
    "    resultados = np.random.choice([0, 1], size=experimentos, p=model_proportions_)\n",
    "    \n",
    "    proporción_éxitos = np.mean(resultados)\n",
    "    return proporción_éxitos\n",
    "\n",
    "\n",
    "\n",
    "# END SOLUTION\n",
    "\"\"\" # BEGIN PROMPT\n",
    "def simulation_and_statistic(model_proportions, expected_proportion_correct):\n",
    "    '''Simulates 210 TT hand choices under Emily’s model.\n",
    "    Returns one statistic from the simulation.'''\n",
    "    ...\n",
    "    \n",
    "\"\"\" # END PROMPT"
   ]
  },
  {
   "cell_type": "raw",
   "id": "3ccdd6d4",
   "metadata": {},
   "source": [
    "# END SOLUTION"
   ]
  },
  {
   "cell_type": "raw",
   "id": "54f0de09",
   "metadata": {},
   "source": [
    "# BEGIN TESTS"
   ]
  },
  {
   "cell_type": "code",
   "execution_count": 40,
   "id": "c21df3d0",
   "metadata": {},
   "outputs": [],
   "source": [
    "num_events = 210\n",
    "def test_q8():\n",
    "    assert 0 <= simulation_and_statistic(model_proportions,num_events) <= 1, \"El valor no está entre 0 y 1\"\n",
    "    assert isinstance(simulation_and_statistic(model_proportions,210), float), \"El resultado no es un entero\"\n",
    "test_q8()"
   ]
  },
  {
   "cell_type": "raw",
   "id": "cc88b548",
   "metadata": {},
   "source": [
    "# END TESTS"
   ]
  },
  {
   "cell_type": "raw",
   "id": "b41a4d58",
   "metadata": {},
   "source": [
    "# END QUESTION"
   ]
  },
  {
   "cell_type": "code",
   "execution_count": 41,
   "id": "y3pL3zkjAS5K",
   "metadata": {
    "deletable": true,
    "editable": true,
    "id": "y3pL3zkjAS5K",
    "tags": []
   },
   "outputs": [],
   "source": [
    "num_repetitions = 1000\n",
    "\n",
    "simulated_statistics = []\n",
    "observed_statistic = 0.44\n",
    "\n",
    "for _ in range(num_repetitions):\n",
    "    stat = simulation_and_statistic(model_proportions)\n",
    "    simulated_statistics.append(stat)"
   ]
  },
  {
   "cell_type": "markdown",
   "id": "a4a947VAAS5L",
   "metadata": {
    "deletable": true,
    "editable": true,
    "id": "a4a947VAAS5L"
   },
   "source": [
    "Veamos la distribución de las estadísticas simuladas bajo el modelo de Emily y comparemos visualmente dónde se encuentra la estadística observada en relación con las estadísticas simuladas."
   ]
  },
  {
   "cell_type": "code",
   "execution_count": 42,
   "id": "-961AezFAS5L",
   "metadata": {
    "deletable": true,
    "editable": true,
    "id": "-961AezFAS5L"
   },
   "outputs": [
    {
     "data": {
      "image/png": "[encoded data removed]",
      "text/plain": [
       "<Figure size 600x400 with 1 Axes>"
      ]
     },
     "metadata": {},
     "output_type": "display_data"
    }
   ],
   "source": [
    "# Crear una tabla con las estadísticas simuladas\n",
    "t = Table().with_column('Simulated Statistics', simulated_statistics)\n",
    "\n",
    "# Graficar la distribución de las estadísticas simuladas\n",
    "t.hist(bins=30, edgecolor='black')\n",
    "plt.title('Distribución de las estadísticas simuladas')\n",
    "plt.xlabel('Proporción de aciertos')\n",
    "plt.ylabel('Frecuencia')\n",
    "\n",
    "# Marcar la estadística observada en la gráfica\n",
    "plt.scatter(observed_statistic, 1, color='red', s=100, zorder=2, label='Observed')\n",
    "plt.legend()\n",
    "plt.show()"
   ]
  },
  {
   "cell_type": "markdown",
   "id": "eu1nSoy9AS5L",
   "metadata": {
    "deletable": true,
    "editable": true,
    "id": "eu1nSoy9AS5L"
   },
   "source": [
    "Podemos evaluar visualmente si la estadística observada es consistente con el modelo de Emily. Como valores más altos de la estadística de prueba favorecen el modelo alternativo (donde la probabilidad de adivinar correctamente la mano no es exactamente del 50%), podemos formalizar nuestro análisis calculando la proporción de estadísticas simuladas que son iguales o mayores a la observada en el experimento. Esta proporción representa el área bajo la curva a la derecha de la estadística de prueba observada. Si esta área es lo suficientemente pequeña, concluiremos que los datos observados son inconsistentes con el modelo simulado. \n",
    "\n",
    "Aquí está el [enlace](https://inferentialthinking.com/chapters/11/1/Assessing_a_Model.html) a la sección del libro de texto."
   ]
  },
  {
   "cell_type": "raw",
   "id": "1ac4f556",
   "metadata": {},
   "source": [
    "# BEGIN QUESTION\n",
    "name: q9\n",
    "points : 1"
   ]
  },
  {
   "cell_type": "markdown",
   "id": "K0Fh3VcSAS5L",
   "metadata": {
    "deletable": true,
    "editable": true,
    "id": "K0Fh3VcSAS5L"
   },
   "source": [
    "**Pregunta 1.9:** Calcule la proporción de estadísticas simuladas en la Pregunta 1.8 mayor o igual a la estadística observada.\n",
    "\n",
    "*Pista:* \n",
    "\n",
    "*1)* El uso de `np.count_nonzero` se puede encontrar [aquí](http://data8.org/fa23/reference).\n",
    "\n",
    "*2)* Considere el uso de `np.array()`"
   ]
  },
  {
   "cell_type": "raw",
   "id": "0619516e",
   "metadata": {},
   "source": [
    "# BEGIN SOLUTION"
   ]
  },
  {
   "cell_type": "code",
   "execution_count": 43,
   "id": "7d6c3c4b",
   "metadata": {},
   "outputs": [
    {
     "data": {
      "text/plain": [
       "' # BEGIN PROMPT\\nproportion_greater_equal = ...\\nproportion_greater_equal\\n'"
      ]
     },
     "execution_count": 43,
     "metadata": {},
     "output_type": "execute_result"
    }
   ],
   "source": [
    "# BEGIN SOLUTION NO PROMPT\n",
    "\n",
    "# Calcular la proporción de simulaciones mayores o iguales a la estadística observada\n",
    "\n",
    "proportion_greater_equal = np.count_nonzero(np.array(simulated_statistics) >= observed_statistic) / len(simulated_statistics)\n",
    "proportion_greater_equal\n",
    "\n",
    "# END SOLUTION\n",
    "\"\"\" # BEGIN PROMPT\n",
    "proportion_greater_equal = ...\n",
    "proportion_greater_equal\n",
    "\"\"\" # END PROMPT\n"
   ]
  },
  {
   "cell_type": "raw",
   "id": "87000274",
   "metadata": {},
   "source": [
    "# END SOLUTION"
   ]
  },
  {
   "cell_type": "raw",
   "id": "c4325cad",
   "metadata": {},
   "source": [
    "# BEGIN TESTS"
   ]
  },
  {
   "cell_type": "code",
   "execution_count": 45,
   "id": "1bbe86cf",
   "metadata": {},
   "outputs": [],
   "source": [
    "valor_esperado = 1.0\n",
    "def test_q9():\n",
    "    assert np.isclose(proportion_greater_equal, valor_esperado) \n",
    "\n",
    "test_q9()"
   ]
  },
  {
   "cell_type": "raw",
   "id": "0036bcc5",
   "metadata": {},
   "source": [
    "# END TESTS"
   ]
  },
  {
   "cell_type": "raw",
   "id": "68fc0037",
   "metadata": {},
   "source": [
    "# END QUESTION"
   ]
  },
  {
   "cell_type": "markdown",
   "id": "GSXFyEjaAS5e",
   "metadata": {
    "deletable": true,
    "editable": true,
    "id": "GSXFyEjaAS5e"
   },
   "source": [
    "Por convención, a menudo comparamos la proporción que acabamos de calcular con 0,05. Si la proporción de estadísticas simuladas mayores o iguales a las estadísticas observadas es suficientemente pequeña (menor o igual a 0,05), entonces esto es evidencia en contra del modelo de Emily. Conceptualmente, se puede pensar en este caso como el caso en el que menos del 5% de los valores simulados están tan o más lejos de lo que esperábamos. Si este no es el caso, no tenemos ningún motivo para dudar del modelo de Emily.\n",
    "\n",
    "Esto debería ayudarte a sacar tus propias conclusiones sobre el experimento de Emily Rosa.\n",
    "\n",
    "El contacto terapéutico dejó de utilizarse después de este experimento, que finalmente fue aceptado en una de las principales revistas médicas. Los practicantes de TT respondieron y acusaron a Emily y su familia de alterar los resultados, mientras que algunos afirmaron que el mal humor espiritual de Emily hacia el contacto terapéutico hacía difícil leer su HEF. Sea lo que sea, el experimento de Emily es un ejemplo clásico de cómo cualquiera, con los recursos adecuados, puede probar lo que quiera."
   ]
  },
  {
   "cell_type": "raw",
   "id": "5151d222",
   "metadata": {},
   "source": [
    "# BEGIN QUESTION\n",
    "name: q10\n",
    "points : 1"
   ]
  },
  {
   "cell_type": "markdown",
   "id": "cedf1csvAS5e",
   "metadata": {
    "deletable": true,
    "editable": true,
    "id": "cedf1csvAS5e"
   },
   "source": [
    "**Pregunta 1.10:** Ahora, tómate un tiempo para reflexionar sobre las preguntas a continuación y luego discútelas con tus compañeros o echa un vistazo a las discusiones en la publicación educativa de este laboratorio.\n",
    "\n",
    "1. ¿Son los datos más consistentes con el modelo de Emily (los practicantes adivinaban al azar)?\n",
    "2. ¿Qué significa esto en términos del experimento de Emily? ¿Las respuestas de los practicantes de TT siguen un modelo de probabilidad par o hay algo más en juego?\n",
    "\n",
    "¿Hablaste con tus compañeros o miraste el foro de discusión?\n",
    "\n",
    "Pista: La respuesta corresponde a hacer un `arreglo de 2 dimensiones`, tipo `bool` (Verdadero o Falso)\n"
   ]
  },
  {
   "cell_type": "raw",
   "id": "7d4be1b8",
   "metadata": {},
   "source": [
    "# BEGIN SOLUTION"
   ]
  },
  {
   "cell_type": "code",
   "execution_count": 46,
   "id": "f02e249f",
   "metadata": {},
   "outputs": [
    {
     "data": {
      "text/plain": [
       "' # BEGIN PROMPT\\npeer_talk = ...\\npeer_talk\\n'"
      ]
     },
     "execution_count": 46,
     "metadata": {},
     "output_type": "execute_result"
    }
   ],
   "source": [
    "# BEGIN SOLUTION NO PROMPT\n",
    "\n",
    "peer_talk = np.array([True,False])\n",
    "\n",
    "\n",
    "# END SOLUTION\n",
    "\"\"\" # BEGIN PROMPT\n",
    "peer_talk = ...\n",
    "peer_talk\n",
    "\"\"\" # END PROMPT"
   ]
  },
  {
   "cell_type": "raw",
   "id": "6eca04c7",
   "metadata": {},
   "source": [
    "# END SOLUTION"
   ]
  },
  {
   "cell_type": "raw",
   "id": "76d925b2",
   "metadata": {},
   "source": [
    "# BEGIN TESTS"
   ]
  },
  {
   "cell_type": "code",
   "execution_count": 47,
   "id": "accbd078",
   "metadata": {},
   "outputs": [],
   "source": [
    "respuesta1 = True\n",
    "respuesta2 = False\n",
    "def test_q10():\n",
    "    assert (len(peer_talk) == 2), \"Las dimensiones no son las correctas\"\n",
    "    assert type(peer_talk) == type(np.array([True,True])), \"No es un arreglo de numpy\"\n",
    "    assert (peer_talk[0] == respuesta1) and (peer_talk[1] == respuesta2), \"Las respuestas no son las correctas\"\n",
    "\n",
    "test_q10()"
   ]
  },
  {
   "cell_type": "raw",
   "id": "500421e6",
   "metadata": {},
   "source": [
    "# END TESTS"
   ]
  },
  {
   "cell_type": "raw",
   "id": "a60b3da7",
   "metadata": {},
   "source": [
    "# END QUESTION"
   ]
  },
  {
   "cell_type": "markdown",
   "id": "eyJNi4y8AS5e",
   "metadata": {
    "deletable": true,
    "editable": true,
    "id": "eyJNi4y8AS5e"
   },
   "source": [
    "## ¡CASI LLEGAMOS!\n",
    "\n",
    "<img src=\"https://github.com/darioblandon/materials-fa23/blob/main/lab/lab06/teddy.jpeg?raw=1\" alt=\"Cute dog standing in a hallway with tile floors\" width=\"300\"/>\n",
    "\n",
    "**Teddy** quiere hacerte saber que eres genial."
   ]
  },
  {
   "cell_type": "markdown",
   "id": "2KmP2EBbAS5f",
   "metadata": {
    "deletable": true,
    "editable": true,
    "id": "2KmP2EBbAS5f"
   },
   "source": [
    "\n",
    "---\n",
    "\n",
    "¡Terminaste con el laboratorio!\n",
    "\n",
    "**Información importante sobre el envío:**\n",
    "- **Ejecuta todas las pruebas** y verifica que todas pasan\n",
    "- **Guardar** desde el menú **Archivo**\n",
    "- **Ejecute la celda final para generar el archivo zip**\n",
    "- **Haga clic en el enlace para descargar el archivo zip**\n",
    "- Luego, ve a [Gradescope](https://www.gradescope.com/courses/576157) y envía el archivo zip a la tarea correspondiente. El nombre de esta tarea es \"Lab XX Autograder\", donde XX es el número de laboratorio: 01, 02, 03, etc.\n",
    "\n",
    "- Si terminas temprano en el laboratorio regular, **pídele a uno de los miembros del personal que te marque**.\n",
    "\n",
    "**Es su responsabilidad asegurarse de que su trabajo esté guardado antes de ejecutar la última celda.**"
   ]
  },
  {
   "cell_type": "markdown",
   "id": "kC6Wl2XiAS5f",
   "metadata": {
    "deletable": true,
    "editable": true,
    "id": "kC6Wl2XiAS5f"
   },
   "source": [
    "## Envío\n",
    "\n",
    "Asegúrese de haber ejecutado todas las celdas de su cuaderno en orden antes de ejecutar la siguiente celda, para que todas las imágenes/gráficos aparezcan en el resultado. La siguiente celda generará un archivo zip para que lo envíe. **¡Guarde antes de exportar!**"
   ]
  },
  {
   "cell_type": "code",
   "execution_count": 24,
   "id": "0sfwGDgPAS5f",
   "metadata": {
    "deletable": true,
    "editable": true,
    "id": "0sfwGDgPAS5f"
   },
   "outputs": [
    {
     "ename": "NameError",
     "evalue": "name 'grader' is not defined",
     "output_type": "error",
     "traceback": [
      "\u001b[0;31m---------------------------------------------------------------------------\u001b[0m",
      "\u001b[0;31mNameError\u001b[0m                                 Traceback (most recent call last)",
      "Cell \u001b[0;32mIn[24], line 2\u001b[0m\n\u001b[1;32m      1\u001b[0m \u001b[38;5;66;03m# Save your notebook first, then run this cell to export your submission.\u001b[39;00m\n\u001b[0;32m----> 2\u001b[0m \u001b[43mgrader\u001b[49m\u001b[38;5;241m.\u001b[39mexport(pdf\u001b[38;5;241m=\u001b[39m\u001b[38;5;28;01mFalse\u001b[39;00m, run_tests\u001b[38;5;241m=\u001b[39m\u001b[38;5;28;01mTrue\u001b[39;00m)\n",
      "\u001b[0;31mNameError\u001b[0m: name 'grader' is not defined"
     ]
    }
   ],
   "source": [
    "# Save your notebook first, then run this cell to export your submission.\n",
    "grader.export(pdf=False, run_tests=True)"
   ]
  },
  {
   "cell_type": "code",
   "execution_count": null,
   "id": "e288424c-58f5-4865-8ece-4f1b7aec05ec",
   "metadata": {},
   "outputs": [],
   "source": []
  }
 ],
 "metadata": {
  "colab": {
   "include_colab_link": true,
   "provenance": []
  },
  "kernelspec": {
   "display_name": "Python 3 (ipykernel)",
   "language": "python",
   "name": "python3"
  },
  "language_info": {
   "codemirror_mode": {
    "name": "ipython",
    "version": 3
   },
   "file_extension": ".py",
   "mimetype": "text/x-python",
   "name": "python",
   "nbconvert_exporter": "python",
   "pygments_lexer": "ipython3",
   "version": "3.10.12"
  },
  "otter": {
   "OK_FORMAT": true,
   "tests": {
    "q1_10": {
     "name": "q1_10",
     "points": null,
     "suites": [
      {
       "cases": [
        {
         "code": ">>> peer_talk == True\nTrue",
         "hidden": false,
         "locked": false
        }
       ],
       "scored": true,
       "setup": "",
       "teardown": "",
       "type": "doctest"
      }
     ]
    },
    "q1_2": {
     "name": "q1_2",
     "points": null,
     "suites": [
      {
       "cases": [
        {
         "code": ">>> 0 <= expected_proportion_correct <= 1\nTrue",
         "hidden": false,
         "locked": false
        },
        {
         "code": ">>> expected_proportion_correct == 0.5\nTrue",
         "hidden": false,
         "locked": false
        }
       ],
       "scored": true,
       "setup": "",
       "teardown": "",
       "type": "doctest"
      }
     ]
    },
    "q1_3": {
     "name": "q1_3",
     "points": null,
     "suites": [
      {
       "cases": [
        {
         "code": ">>> type(valid_stat) == np.ndarray\nTrue",
         "hidden": false,
         "locked": false
        },
        {
         "code": ">>> int(sum(valid_stat))\n2",
         "hidden": false,
         "locked": false
        }
       ],
       "scored": true,
       "setup": "",
       "teardown": "",
       "type": "doctest"
      }
     ]
    },
    "q1_5": {
     "name": "q1_5",
     "points": null,
     "suites": [
      {
       "cases": [
        {
         "code": ">>> int(round(statistic(.5,.5) + statistic(.4,.1),1))\n30",
         "hidden": false,
         "locked": false
        },
        {
         "code": ">>> int(statistic(.4,.1) - statistic(.1,.4))\n0",
         "hidden": false,
         "locked": false
        }
       ],
       "scored": true,
       "setup": "",
       "teardown": "",
       "type": "doctest"
      }
     ]
    },
    "q1_6": {
     "name": "q1_6",
     "points": null,
     "suites": [
      {
       "cases": [
        {
         "code": ">>> int(round(observed_statistic,2))\n6",
         "hidden": false,
         "locked": false
        }
       ],
       "scored": true,
       "setup": "",
       "teardown": "",
       "type": "doctest"
      }
     ]
    },
    "q1_7": {
     "name": "q1_7",
     "points": null,
     "suites": [
      {
       "cases": [
        {
         "code": ">>> len(model_proportions) % 2 == 0\nTrue",
         "hidden": false,
         "locked": false
        },
        {
         "code": ">>> len(np.unique(model_proportions))\n1",
         "hidden": false,
         "locked": false
        },
        {
         "code": ">>> sum(model_proportions) == 1\nTrue",
         "hidden": false,
         "locked": false
        },
        {
         "code": ">>> type(simulation_proportion_correct) == float\nTrue",
         "hidden": false,
         "locked": false
        },
        {
         "code": ">>> round(simulation_proportion_correct, 2)\n0.49",
         "hidden": false,
         "locked": false
        },
        {
         "code": ">>> round(one_statistic, 2) - 0.95 < 0.05\nTrue",
         "hidden": false,
         "locked": false
        }
       ],
       "scored": true,
       "setup": "",
       "teardown": "",
       "type": "doctest"
      }
     ]
    },
    "q1_8": {
     "name": "q1_8",
     "points": null,
     "suites": [
      {
       "cases": [
        {
         "code": ">>> len(simulated_statistics) == 1000\nTrue",
         "hidden": false,
         "locked": false
        },
        {
         "code": ">>> np.all(simulated_statistics <= 30)\nTrue",
         "hidden": false,
         "locked": false
        },
        {
         "code": ">>> np.all(simulated_statistics >= 0)\nTrue",
         "hidden": false,
         "locked": false
        },
        {
         "code": ">>> 0 <= simulation_and_statistic(model_proportions, expected_proportion_correct) <= 25\nTrue",
         "hidden": false,
         "locked": false
        }
       ],
       "scored": true,
       "setup": "",
       "teardown": "",
       "type": "doctest"
      }
     ]
    },
    "q1_9": {
     "name": "q1_9",
     "points": null,
     "suites": [
      {
       "cases": [
        {
         "code": ">>> 0 <= proportion_greater_or_equal <= 1\nTrue",
         "hidden": false,
         "locked": false
        },
        {
         "code": ">>> proportion_greater_or_equal*1000 == np.count_nonzero(simulated_statistics >= observed_statistic)\nTrue",
         "hidden": false,
         "locked": false
        }
       ],
       "scored": true,
       "setup": "",
       "teardown": "",
       "type": "doctest"
      }
     ]
    }
   }
  }
 },
 "nbformat": 4,
 "nbformat_minor": 5
}
